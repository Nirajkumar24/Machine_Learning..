{
  "nbformat": 4,
  "nbformat_minor": 0,
  "metadata": {
    "colab": {
      "provenance": []
    },
    "kernelspec": {
      "name": "python3",
      "display_name": "Python 3"
    },
    "language_info": {
      "name": "python"
    }
  },
  "cells": [
    {
      "cell_type": "code",
      "execution_count": 2,
      "metadata": {
        "id": "--jW8xcC68BV",
        "colab": {
          "base_uri": "https://localhost:8080/"
        },
        "outputId": "dcb970a7-7622-4ef8-8f23-e930426864c4"
      },
      "outputs": [
        {
          "output_type": "stream",
          "name": "stdout",
          "text": [
            "Voting Classifier Accuracy: 1.00\n"
          ]
        }
      ],
      "source": [
        "import pandas as pd\n",
        "from sklearn.model_selection import train_test_split\n",
        "from sklearn.ensemble import VotingClassifier\n",
        "from sklearn.linear_model import LogisticRegression\n",
        "from sklearn.neighbors import KNeighborsClassifier\n",
        "from sklearn.tree import DecisionTreeClassifier\n",
        "from sklearn.metrics import accuracy_score\n",
        "\n",
        "# Create a simple dataset with meaningful feature names\n",
        "data = {\n",
        "    'Hours_Studied': [2, 4, 3, 5, 6, 1, 7, 8, 5, 9],\n",
        "    'Sleep_Hours': [6, 7, 6, 8, 8, 5, 9, 9, 7, 10],\n",
        "    'Pass_Fail': [0, 0, 0, 1, 1, 0, 1, 1, 1, 1]  # 0: Fail, 1: Pass\n",
        "}\n",
        "df = pd.DataFrame(data)\n",
        "\n",
        "# Split features and labels\n",
        "X = df[['Hours_Studied', 'Sleep_Hours']]\n",
        "y = df['Pass_Fail']\n",
        "\n",
        "# Split the data into training and testing sets\n",
        "X_train, X_test, y_train, y_test = train_test_split(X, y, test_size=0.2, random_state=42)\n",
        "\n",
        "# Create individual classifiers\n",
        "log_clf = LogisticRegression(random_state=42)\n",
        "knn_clf = KNeighborsClassifier()\n",
        "dt_clf = DecisionTreeClassifier(random_state=42)\n",
        "\n",
        "# Combine classifiers using VotingClassifier\n",
        "voting_clf = VotingClassifier(\n",
        "    estimators=[\n",
        "        ('lr', log_clf),\n",
        "        ('knn', knn_clf),\n",
        "        ('dt', dt_clf)\n",
        "    ],\n",
        "    voting='hard'  # Majority voting\n",
        ")\n",
        "\n",
        "# Train the VotingClassifier\n",
        "voting_clf.fit(X_train, y_train)\n",
        "\n",
        "# Make predictions\n",
        "y_pred = voting_clf.predict(X_test)\n",
        "\n",
        "# Evaluate the model\n",
        "accuracy = accuracy_score(y_test, y_pred)\n",
        "print(f\"Voting Classifier Accuracy: {accuracy:.2f}\")\n"
      ]
    },
    {
      "cell_type": "code",
      "source": [],
      "metadata": {
        "id": "rmtKGVTR7ANZ"
      },
      "execution_count": null,
      "outputs": []
    },
    {
      "cell_type": "code",
      "source": [],
      "metadata": {
        "id": "b9AGV6vZ7Dqo"
      },
      "execution_count": null,
      "outputs": []
    },
    {
      "cell_type": "code",
      "source": [],
      "metadata": {
        "id": "-DyVrCEi7PWx"
      },
      "execution_count": null,
      "outputs": []
    },
    {
      "cell_type": "code",
      "source": [],
      "metadata": {
        "id": "cyANX30K8obF"
      },
      "execution_count": null,
      "outputs": []
    },
    {
      "cell_type": "code",
      "source": [],
      "metadata": {
        "id": "vv4sD6OC8pq1"
      },
      "execution_count": null,
      "outputs": []
    },
    {
      "cell_type": "code",
      "source": [],
      "metadata": {
        "id": "4SCF3DXl8zHU"
      },
      "execution_count": null,
      "outputs": []
    }
  ]
}