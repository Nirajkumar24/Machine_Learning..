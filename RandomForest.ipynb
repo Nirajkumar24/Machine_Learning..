{
  "nbformat": 4,
  "nbformat_minor": 0,
  "metadata": {
    "colab": {
      "provenance": []
    },
    "kernelspec": {
      "name": "python3",
      "display_name": "Python 3"
    },
    "language_info": {
      "name": "python"
    }
  },
  "cells": [
    {
      "cell_type": "code",
      "execution_count": 2,
      "metadata": {
        "colab": {
          "base_uri": "https://localhost:8080/"
        },
        "id": "z1OEINB2I5A6",
        "outputId": "23e67b1d-a3fd-4dda-849f-2630dd2b160a"
      },
      "outputs": [
        {
          "output_type": "stream",
          "name": "stdout",
          "text": [
            "Predictions: [0 0]\n",
            "Accuracy: 1.0\n"
          ]
        }
      ],
      "source": [
        "# Importing Libraries\n",
        "from sklearn.ensemble import RandomForestClassifier\n",
        "from sklearn.model_selection import train_test_split\n",
        "from sklearn.metrics import accuracy_score\n",
        "import pandas as pd\n",
        "# DataSet\n",
        "data = {\n",
        "    'Study_Hours': [2, 3, 4, 5, 6, 1, 7, 8, 1, 10],\n",
        "    'Attendance': [50, 60, 65, 70, 80, 40, 85, 90, 30, 95],\n",
        "    'Pass_Fail': [0, 0, 0, 1, 1, 0, 1, 1, 0, 1]\n",
        "}\n",
        "# DataFrame\n",
        "df = pd.DataFrame(data)\n",
        "# Independent and target variables\n",
        "X = df[['Study_Hours', 'Attendance']]\n",
        "y = df['Pass_Fail']\n",
        "# Splitting\n",
        "X_train, X_test, y_train, y_test = train_test_split(X, y, test_size=0.2, random_state=42)\n",
        "# Model\n",
        "clf = RandomForestClassifier(n_estimators=100, random_state=42)\n",
        "clf.fit(X_train, y_train)\n",
        "\n",
        "y_pred = clf.predict(X_test)\n",
        "\n",
        "accuracy = accuracy_score(y_test, y_pred)\n",
        "\n",
        "print(\"Predictions:\", y_pred)\n",
        "print(\"Accuracy:\", accuracy)\n"
      ]
    },
    {
      "cell_type": "code",
      "source": [],
      "metadata": {
        "id": "QL72hGKpKeu5"
      },
      "execution_count": null,
      "outputs": []
    }
  ]
}